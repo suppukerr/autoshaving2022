{
  "nbformat": 4,
  "nbformat_minor": 0,
  "metadata": {
    "colab": {
      "provenance": []
    },
    "kernelspec": {
      "name": "python3",
      "display_name": "Python 3"
    },
    "language_info": {
      "name": "python"
    }
  },
  "cells": [
    {
      "cell_type": "markdown",
      "source": [
        "# **Извлечение коллокаций + NER**\n",
        "\n"
      ],
      "metadata": {
        "id": "HTxH5Bvgu31i"
      }
    },
    {
      "cell_type": "markdown",
      "source": [
        "## Три способа извлечения наименований товаров\n",
        "\n",
        "\n",
        "\n",
        "1.   Взять родовое понятие, обучить word2vec на текстах отзывах, получить близкие к родовому слову синонимы и доставать из текстов эти слова. Минусы: не удастся вытащить прям все, потому что в отзывах могут и вовсе не встречаться родовые понятия, кроме того, многие родовые слова для музыкальных инструментов состоят не из одного слова, что затрудняет автоматический выбор синонимов.\n",
        "2.   Взять из метадаты названия и добавить их в словарь к родовым понятиям. Плюсы: высокая полнота. Минусы: очень много ручной работы.\n",
        "3.   Взять родовые понятия в word2vec, взять синонимы к ним, заменить их на какой-нибудь тег типа NE. Обучить модель предсказывать по контексту будет ли там NE или нет. Плюсы: так можно предсказывать также названия. Минусы: проблемы с длинной NE, так как названия могут состоять из нескольких слов.\n",
        "\n",
        "\n",
        "\n"
      ],
      "metadata": {
        "id": "7Uld3pJkz0cW"
      }
    },
    {
      "cell_type": "markdown",
      "source": [
        "В качестве датасета я вырала [датасет](http://snap.stanford.edu/data/amazon/productGraph/categoryFiles/reviews_Musical_Instruments_5.json.gz) Musical Instruments"
      ],
      "metadata": {
        "id": "aOGuR1v5vDG2"
      }
    },
    {
      "cell_type": "code",
      "execution_count": 90,
      "metadata": {
        "colab": {
          "base_uri": "https://localhost:8080/"
        },
        "id": "RbEpOsxwukk2",
        "outputId": "27fe6747-6a3d-4165-f23c-c23345cd5503"
      },
      "outputs": [
        {
          "output_type": "stream",
          "name": "stderr",
          "text": [
            "[nltk_data] Downloading package stopwords to /root/nltk_data...\n",
            "[nltk_data]   Package stopwords is already up-to-date!\n",
            "[nltk_data] Downloading package wordnet to /root/nltk_data...\n",
            "[nltk_data]   Package wordnet is already up-to-date!\n",
            "[nltk_data] Downloading package omw-1.4 to /root/nltk_data...\n"
          ]
        }
      ],
      "source": [
        "import json\n",
        "import nltk\n",
        "import gzip\n",
        "import re\n",
        "import gensim\n",
        "import pandas as pd\n",
        "import tqdm\n",
        "from nltk.stem import WordNetLemmatizer\n",
        "from nltk.tokenize import sent_tokenize, word_tokenize\n",
        "from nltk.util import ngrams\n",
        "from nltk.corpus import stopwords\n",
        "from sklearn.utils import shuffle\n",
        "from nltk.collocations import *\n",
        "from string import punctuation\n",
        "from collections import Counter\n",
        "\n",
        "nltk.download('stopwords')\n",
        "nltk.download('wordnet')\n",
        "nltk.download('omw-1.4')\n",
        "lemmatizer = WordNetLemmatizer()"
      ]
    },
    {
      "cell_type": "code",
      "source": [
        "def parse(path):\n",
        "  g = gzip.open(path, 'rb')\n",
        "  for l in g:\n",
        "    yield eval(l)\n",
        "\n",
        "def getDF(path):\n",
        "  i = 0\n",
        "  df = {}\n",
        "  for d in parse(path):\n",
        "    df[i] = d\n",
        "    i += 1\n",
        "  return pd.DataFrame.from_dict(df, orient='index')"
      ],
      "metadata": {
        "id": "y9V4lcViuqYK"
      },
      "execution_count": 26,
      "outputs": []
    },
    {
      "cell_type": "code",
      "source": [
        "!wget 'http://snap.stanford.edu/data/amazon/productGraph/categoryFiles/reviews_Digital_Music_5.json.gz'"
      ],
      "metadata": {
        "colab": {
          "base_uri": "https://localhost:8080/"
        },
        "id": "VezXW5y9yaYY",
        "outputId": "00b19c46-2fab-45b4-d082-0b5267575d95"
      },
      "execution_count": 105,
      "outputs": [
        {
          "output_type": "stream",
          "name": "stdout",
          "text": [
            "--2022-12-14 16:08:24--  http://snap.stanford.edu/data/amazon/productGraph/categoryFiles/reviews_Digital_Music_5.json.gz\n",
            "Resolving snap.stanford.edu (snap.stanford.edu)... 171.64.75.80\n",
            "Connecting to snap.stanford.edu (snap.stanford.edu)|171.64.75.80|:80... connected.\n",
            "HTTP request sent, awaiting response... 200 OK\n",
            "Length: 32052614 (31M) [application/x-gzip]\n",
            "Saving to: ‘reviews_Digital_Music_5.json.gz.1’\n",
            "\n",
            "reviews_Digital_Mus 100%[===================>]  30.57M  6.69MB/s    in 5.7s    \n",
            "\n",
            "2022-12-14 16:08:30 (5.37 MB/s) - ‘reviews_Digital_Music_5.json.gz.1’ saved [32052614/32052614]\n",
            "\n"
          ]
        }
      ]
    },
    {
      "cell_type": "code",
      "source": [
        "reviews = getDF('reviews_Digital_Music_5.json.gz')"
      ],
      "metadata": {
        "id": "JbU0ihk0yaca"
      },
      "execution_count": 106,
      "outputs": []
    },
    {
      "cell_type": "code",
      "source": [
        "def preprocess(text, stopwords, delete_stopwords=False):\n",
        "    text = text.lower().strip()\n",
        "    for char in punctuation:\n",
        "        text = text.replace(char, \" \")\n",
        "    tokens = text.split()\n",
        "    new_text = []\n",
        "    for i in tokens:\n",
        "        if delete_stopwords:\n",
        "            if i not in stopwords:\n",
        "                new_text.append(i)\n",
        "        else:\n",
        "            new_text.append(i)\n",
        "    return new_text\n",
        "stop = stopwords.words('english')"
      ],
      "metadata": {
        "id": "EhrY1kgyyaga"
      },
      "execution_count": 107,
      "outputs": []
    },
    {
      "cell_type": "code",
      "source": [
        "reviews = shuffle(reviews)"
      ],
      "metadata": {
        "id": "3H_vzySry0zn"
      },
      "execution_count": 108,
      "outputs": []
    },
    {
      "cell_type": "code",
      "source": [
        "corpus = [preprocess(i, stop) for i in reviews[:300000].reviewText.tolist()]"
      ],
      "metadata": {
        "id": "o4lHd9rHy04x"
      },
      "execution_count": 109,
      "outputs": []
    },
    {
      "cell_type": "code",
      "source": [
        "pd.set_option('display.max_colwidth', None)"
      ],
      "metadata": {
        "id": "N9XKPL23NtFr"
      },
      "execution_count": 110,
      "outputs": []
    },
    {
      "cell_type": "code",
      "source": [
        "reviews['reviewText'][:30]"
      ],
      "metadata": {
        "colab": {
          "base_uri": "https://localhost:8080/"
        },
        "id": "fxTfya2hy09V",
        "outputId": "788b2737-899d-4faa-a756-3cae28bf3e5c"
      },
      "execution_count": 111,
      "outputs": [
        {
          "output_type": "execute_result",
          "data": {
            "text/plain": [
              "52357                                                                                                                                                                                                                                                                                                                                                                                                                                                                                                                                                                                                                                                                                                                                                                                                                                                                                                                                                                                                                                                                                                                                                                                                                                                                                                                                                                                                                                                                                                                                                                                                                                                                                                                                                                                                                          I didn't know what to expect from this album. I heard a few of Nelly's songs in the past and of course the hit, \"Promiscuous.\"  After hearing this album I grew fond of some sounds that were incorporated into this album. Nelly obviously has a genuine love for music of all kinds, some of the varied styles she attempts contrives  of hip-hop, 80's retro, and electro-soul just to name a few. Timbaland as a collaborator, and she lets him shine for the first half of the record, as they get the party pumping. Then on the second half of the record, Nelly shows us her vintage side.\"Afraid,\" \"Maneater (particularly),\" and \"Promiscuous,\" are great. These tracks boast Furtado's conversion by giving us some catchy, up tempo, infectious dance floor beats. \"Do It\" sounds like Madonna's Burning Up, and there are some '80s-like sounds within the album. \"No Hay Igual,\" is good she blends reggaeton and M.I.A. into this track. Latin pop ballad \"Te Busque,\" is really nice I also like the Spanish version to it. \"Showtime\" and \"All Things (Come To An End) are all great as well. If I had one complaint about this album is that the beat is so strong on some tracks that they overpower her vocals, but she makes up for it on the slower tracks.`Loose' is the kind of album which is set to widen Nelly's fan base and introduce people to the rest of her work. The album is worth checking out, it's wicked.\n",
              "18315                                                                                                                                                                                                                                                                                                                                                                                                                                                                                                                                                                                                                                                                                                                                                                                                                                                                                                                                                                                                                                                                                                                                                                                                                                                                                                                                                                                                                                                                                                                                                                                                                                                                                                                                                                                                                                                                                                                                                                                                                                                                                                                                                                                                                                                                                                                                                                                      If there is one thing you really cannot blame the woman for, is the lack of changes.Again she surprises the world with a different music style.This album was widely conceived with british ambient producer William Orbit.FROZEN is damn good, full of dark atmosphere and with a counterpunction of orchestral elements against a synthesizers arrangement.Romantic and haunting at the same time...RAY OF LIGHT turns to the rock side, great guitar riff.NOTHING REALLY MATTERS and SKY FITS HEAVEN are dancefloor-oriented.THE POWER OF GOODBYE is what you'd call a ballad once it is set in this type of project.And just to remind you of the new spiritual journey she undertook, here she goes singing the praise of her new-found religion in SHANTI-ASHANTI.If you can't be any more surprised than listening to Madonna singing it, then you run out of love for music.\n",
              "6834                                                                                                                                                                                                                                                                                                                                                                                                                                                                                                                                                                                                                                                                                                                                                                                                                                                                                                                                                                                                                                                                                                                                                                                                                                                                                                                                                                                                                                                                                                                                                                                                                                                                                                                                                                                                                                                                                                                                                                                                                                                                                                                                                                                                                                                          I note that this has been remastered and has additional songs, but the original vinyl of Donovan's 'Sunshine Superman' is one of the most enjoyable listening experiences in my collection.  Donovan was an original, and yet you hear elements of the Beatles and Harry Nilsson in his music as well.  It would be classified as psychedilic folk/rock.  Yes, the songs play like one long drug trip, but the imagery is extraordinary and allows the listener to legally and vicariously see what some of these sixties musicians saw when they were stoned out of their minds.  I really enjoy the Tolkein-esque imagery of the songs and the whimsical, child-like nature of the lyrics.  The instrumentation includes all kinds of instruments one found in the late sixties on experimental rock albums, such as sitars and oboes and strings.  The resulting sound is lush and accomplished.  This is a great album, and though I don't know how the CD versions stack up, the vinyl is awesome and clear.\n",
              "17590                                                                                                                                                                                                                                                                                                                                                                                                                                                                                                                                                                                                                                                                                                                                                                                                                                                                                                                                                                                                                                                                                                                                                                                                                                                                                                                                                                                                                                                                                                                                                                                                                                                                                                                                                                                                                                                                                                                                                                                                                                                                                                                                                                                                                                                                                                                                                                                                                                                                                                                                                                                                                                                                                                                                                                                                                                                                                                           The Flaming Lips have made their dent of the music industry and have still continued on their path in doing so.  This album though I have felt has made significant strides in the mass market to be actually marketable for people to enjoy until it lacks a purpose and regains it again.  All in all a good record for all ages so have no fear in this one.\n",
              "49670                                                                                                                                                                                                                                                                                                                                                                                                                                                                                                                                                                                                                                                                                                                                                                                                                                                                                                                                                                                                                                                                                                                                                                                                                                                                                                                                                                                                                                                                                                                                                                                                                                                                                                                                                          Well, he's back(he's the man behind the mask) and he's still at it.  Though I'm the biggest Alice Cooper fan in Camp North Pines, I'll admit I wasn't as excited about this album as I should have been.  That's only coz I wasn't that crazy about the previous album, and I figured this one would be in the same mold.  With Dirty Diamonds, Alice managed to slap me in the face for being a skeptical fool.  \"Eyes\" promoted itself as a \"return to the old style\" type of album(a claim I usually find to be B.S. whenever a band has used it), but ended up sounding like Blink-182 with Alice Cooper singing.  I went into Diamonds with the thought it would be the same considering it's pretty much the same band again, but I was wrong.  This is the album that should have carried the \"Return To Roots\" title.  Naturally, there's some modern sounding stuff, but then again, there are songs that sound as though they were recorded in the 70s.  None of it's bad however.  Even my least favorite track is at least a 3 and a half star track.  Alice plays with some different styles, even trying out his Johnny Cash impersonation, but it all sounds quite raw and rockin'.  I would recommend this very highly to those who had forgotten about Alice in the last few years, or to those who were disappointed in the last album.  You can be pretty sure that you won't be disappointed in this one.  If this is a taste of things to come, Alice still has one helluva future in rock.\n",
              "18059                                                                                                                                                                                                                                                                                                                                                                                                                                                                                                                                                                                                                                                                                                                                                                                                                                                                                                                                                                                                                                                                                                                                                                                                                                                                                                                                                                                                                                                                                                                                                                                                                                                                                                                                                                                                                                                                                                                                                                                                                                                                                                                                                                                                                                                                                                                                                                                                                                                                                                                                                                                                                                               Van Halen were the premier purveyors of bad metal in the eighties, their `by the numbers' approach, complete with embarrassing macho posturing and guitar heroics, became the standard that bland copycats like Poison and Whitesnake were aping. Not that Van Halen were that exciting to begin with, but they did set the standard for 80s corporate rock. This is the music beloved by insecure 7th graders and software geeks who still think like insecure 7th graders everywhere. This album includes mega hits `Panama' and `Jump', and will doubtless please fans of the genre, all others will not be impressed. C\n",
              "18267                                                                                                                                                                                                                                                                                                                                                                                                                                                                                                                                                                                                                                                                                                                                                                                                                                                                                                                                                                                                                                                                                                                                                                                                                                                                                                                                                                                                                                                                                                                                                                                                                                                                                                                                                                                                                                                                                                                                                                                                                                                                                                      Ray of Light is the best and most creative album by the Queen of Pop, all hail Madonna. Her songwriting, her voice, and the music is amazing and inspiring here. Gorgeous, full of life, and empowering. All 13 tracks are great. Sky Fits Heaven, \"Traveling down this road watching the signs as I go...\" Frozen, \"Love is a bird she needs to fly let all the hurt inside of you die...\" The Power of Good-bye, \"I was your fortress you had to burn...\" Swim, \"Children killing children while the students rape their teachers, comets fly across the sky while the churches burn their prechers.\" Little Star (about her daughter), \"God gave a present to me, made of flesh and bones...\" Mer Girl, \"I ran from my house that cannot contain me, from the man that I cannot keep, from my mother who haunts me even though she's gone, from my daughter that never sleeps.\" And so many more interesting tracks, Ray of Light won a Grammy for best Pop Album, much-derserved I think. Producer William Orbit is a genius, he redefined Madonna's sound into something more edgy and sophistcated as well. Beautiful album from a beautiful and gifted woman.\n",
              "38648                                                                                                                                                                                                                                                                                                                                                                                                                                                                                                                                                                                                                                                                                                                                                                                                                                                                                                                                                                                                                                                                                                                                                                                                                                                                                                                                                                                                                                                                                                                                                                                                                                                                                                                                                                                                                                                                                                                                                                                                                                                                                                                                                                                                                                                                                                                                                                                                                                                                                                                                                                                                                                                                                                                                                                                                                                                                                                                                                  This CD is everything one would expect a greatest hits compilation of Anita's to be.  It's fantastic from start to finish with so many great songs, and while it's not new music like I and many others were hoping for, it's still great and perhaps we'll get something new before long since she's out touring again.\n",
              "41565                                                                                                                                                                                                                                                                                                                                                                                                                                                                                                                                                                                                                                                                                                                                                                                                                                                   METEORA LIVE AROUND THE WORLD collects songs from the band's recent tours that originally appeared on sophomore album METEORA.First, I would like to state that I really enjoyed Linkin Park'sMETEORAwhen it came out, and I enjoy it now almost a decade later. It's an incredibly consistent album; it's slick, polished, and enjoyable. It was an excellent follow-up to the band's debut album.Unfortunately, this isn't represented in METEORA LIVE AROUND THE WORLD. This live album only collects 7 of the songs that originally appeared on the album.  That's right, only 7 of the 13 appear here.  Even if you don't count \"Foreward\" towards the total run time, only 7 of the original 12 tracks are represented here.  Almost half of the album is missing.  The songs that didn't make the cut: \"Hit the Floor,\" \"Easier to Run,\" \"Figure.09,\" \"Nobody's Listening,\" \"Session,\" and \"Foreword.\"Aside from the conspicuously missing tracks is the poor sound quality.  I understand that these songs were culled from different venues, in front of different audiences, etc..., but this mastering doesn't do the band justice.  Many of these songs are represented in Linkin Park'sLIVE IN TEXASwith much better sound quality.  Even the performance of a few songs don't live up to the band's reputation: \"Breaking the Habit\" and \"Faint\" give listeners of a band that sounds quite tired and exhausted.EDIT: Amazon has raised the price of this compilation from 99 cents to $9.99.  I find this hard to recommend to anyone given this price point.There are a few nice things about this collection: these songs still sound great live, even though the recording isn't great.  Additionally, the album is modestly priced (only 99 cents!?) and for that price, this collection is certainly worth the price of admission.So who is this for? I would recommend this collection to casual fans of the band; there's nothing here that hardcore fans of Linkin Park haven't heard before already. It's hard not to recommend because of its price point, but it's hard to recommend due to its poor quality and exclusion of original songs.  At best, METEORA LIVE AROUND THE WORLD serves as a good sampler for the original album.EDIT: Amazon has raised the price of this compilation from 99 cents to almost 7 bucks.  I find this hard to recommend to anyone given this price point.\n",
              "60796                                                                                                                                                                                                                                                                                                                                                                                                                                                                                                                                                                                                                                                                                                                                                                                                                                                                                                                                                                                                                                                                                                                                                                                                                                                                                                                                                                                                                                                                                                                                                                                                                                                                                                                                                                                                                                                                                                                                                                                                                                                                                                                                                                                                                                                                                                                                                                                                                                                                                                                                                    I'm a relative late comer to MMJ, but have heard enough of their music to appreciate the fact Jim James and company have the confidence and skills to follow their vision, push boundaries, and fall back to more tried and true forms, as they do on \"Circuital.\" There are some peaks and valleys here, but the slow burns, unleashed tumult, and righteous grooves on the more uptempo tracks redeem some of the laggards. Bottom line is I like this record more than the band's last session in part because it does not veer quite so far afield. Still, I would wish there were longer, unbridled passages where MMJ's lockstep mastery and energy would soar, a bit more tumult and a little less languishing.\n",
              "8025                                                                                                                                                                                                                                                                                                                                                                                                                                                                                                                                                                                                                                                                                                                                                                                                                                                                                                                                                                                                                                                                                                                                                                                                                                                                                                                                                                                                                                                                                                                                                                                                                                                                                                                                                                                                                        The surprise success of \"At Budokan\" bumped this album, which was already complete, to the back burner while the hits ran their course. Likely because of a budding backlash from the post Budokan overexposure and increased expectations, \"Dream Police\" took an unjust drubbing at the time. But it was really the sound of the band evolving. The almost disco thump of \"Gonna Raise Hell\" and the nightmare vision of the title track proved Cheap Trick still had the brains, \"Way Of The World\" and \"Need Your Love\" provided the brawn.It was just that the band had become so competent that some of the edgy charm had slipped away. \"Voices\" was the kind of ballad that Cheap Trick might not have been able to pull off prior to this, and there were a few who viewed this kind of open balladeering as selling out. They missed the point.Cheap Trick was exploring their range on \"Dream Police.\" Be that in Robin Zander's polished vocal on \"Voices\" or in that Tom Petersen took to the mike for the stunning \"I Know What I Want,\" \"Dream Police\" became a showcase for the boys from Rockford IL. If you compare the Tricksters' sound here to new wave acts like Blondie and the Cars that were now in the same arena (Blondie's \"Eat To The Beat\" arrived roughly the same time as \"Dream Police\" and covers a lot of the same ground), you'll see how \"Dream Police\" remains an excellent album from a band in their prime.\n",
              "39483                                                                                                                                                                                                                                                                                                                                                                                                                                                                                                                                                                                                                                                                                                                                                                                                                                                                                                                                                                                                                                                                                                                                                                                                                                                                                                                                                                                                                                                                                                                                                                                                                                                                                                                                                                                                                                                                                                                                                                        It was a pleasure to discover this album, which I bought on CD in 2003 with only a minimal knowledge of this lady's style (I only added her first disc Acoustic Soul to my CD library several months later).What attracted me to this was the restrained and uncluttered arrangements and the acoustic guitar strumming that give the whole project a cruisy, laid-back, summer's afternoon sort of feel to it. India.Arie is capable of some heartfelt moments of emotion too, but her style is not the in-your-face hollering of so many modern pop and rock performers, and so this makes for a nice CD that I will always associate with Central Park, New York (when I was there on June 3rd, 2004, this CD was on my portable disc player as I strolled around !!)As the songs have a cohesive, acoustic style, they sort of link together to make a whole. The standouts are Complicated Melody (a pleasant lyrical idea), the delightful Little Things, which was the only song of hers I knew before selecting this CD to buy, and the \"bonus track\" Interested, which I like the rhythm of.Voyage To India is a positive CD with some smooth midtempo lite soul for those who enjoy good tunecraft. I hope India.Arie has some more voyages in the future.I'm giving this album 4 stars.\n",
              "3298                                                                                                                                                                                                                                                                                                                                                                                                                                                                                                                                                                                                                                                                                                                                                                                                                                                                                                                                                                                                                                                                                                                                                                                                                                                                                                                                                                                                                                                                                                                                                                                                                                                                                                                                                                                                                                                                                                                                                                                                                                                                                                                                                                                                                                                                                                                                                                                                                                                                                                                                                                                                                                                                                                                                                            For Any Long Time Fan of Diana Ross, there is no need to review the base of what makes up this Lp. However what is so great is that once again Andy Skrow and George Solomon have put together a fan's dream, a complete look at the Lp! On this double cd, the tracks that were left out and the Alternate Version's of songs from the Project are all included. Like ALL of their past releases there are wonderful liner notes and alternate photo's from the photo shoot. Supreme Job Guys!!!!!NEXT!!!!!!!!\n",
              "61102                                                                                                                                                                                                                                                                                                                                                                                                                                                                                                                                                                                                                                                                                                                                                                                                                                                                                                                                                                                                                                                                                                                                                                                                                                                                                                                                                                                                                                                                                                                                                                                                                                                                                                                                                                                                                                                                                                                                                                                                                                                                                                                                                                                                                                                                                                                                                                                                                                                                                                                                                                                                                                                                                                                                                                                                                                                                                                                                                                                                                                                                     Really like Miranda Lambert.  Had heard only one song, but liked it and thought I would surely like the others as well.  It is an OK CD, but not as good as I expected.  A little too country for me.\n",
              "4088                                                                                                                                                                                                                                                                                                                                                                                                                                                                                                                                                                                                                                                                                                                                                                                                                                                                                                                                                                                                                                                                                                                                                                                                                                                                                                                                                                                                                                                                                                                                                                                                                                                                                                                                                                                                                                                                                                                                                                                                                                                                                                                                                                                                                                                                                                                                                                                                                                                                                                                                                                                                                                                                                                                                                                                                                                                                                                                              in the mid 90's ELTON had a pretty good run THE ONE was a decent cd the LION KING was really big for him so this is a nice follow up. The stand out tracks were BELIEVE,BLESSED, PLEASE and one of my favorites LATITUDE,the song BELFAST could have been off MADMANor any of his early PAUL BUCKMASTER arrangements.well worth listening to.\n",
              "1087                                                                                                                                                                                                                                                                                                                                                                                                                                                                                                                                                                                                                                                                                                          When \"Imperial Bedroom\" first hit the shelves, critics were falling over themselves with superlatives. Even Columbia's \"Artist...Masterpiece?\" ad campaign was begging the question. Was this the album that would crack the new wave stereotype that had been hung around Elvis Costello's neck since \"My Aim Is True?\"The answer was yes...and no.Granted, hiring Geoff Emerick to put his Beatle-esque touches made for a handsome, rich sound, more than any other album in EC's discography. The expansiveness paid off right from the album's opener, \"Beyond Belief.\" Toying with his own range and the overlapping vocal parts, Elvis' willingness to experiment rocked the foundations of all the early \"punks\" of the period. (Think of how closely Joe Jackson's \"Night And Day\" and The Police's \"Synchronicity\" followed.) The experiments were also inherent to the arrangements. The high pitched strings that slip out of the album's fade to \"Town Cryer\" were four cellos overdubbed to sound like an entire string section, as I recall.Working from the pretext that they could experiment like the Beatles did, each song was tinkered and toyed with till (as you can hear in the comparisons to the bonus disc's demo versions) they barely resembled their original ideas. It made the original album's side one a song suite of near \"Sgt. Pepper\" proportions, with the standout of \"Man Out Of Time\" marking the perfect bridge between the Elvis of old and the Elvis of new. His anguished howl that breaks the song open and then ushers it into the heartbreak of \"Almost Blue\" reset the boundaries of compositions in 1982.Comparisons to Gershwin and Porter were also being tossed around when \"Imperial Bedroom\" first came out, one suspects they had more to do with overzealous critics trying to make associations with \"serious music\" than to the obvious merits of Elvis' songwriting prowess. The debt to Tin Pan Alley (\"The Long Honeymoon\") is truly there. But the lyrical jabs and jibes are still pure Costello, and a line like \"In a private detective overcoat and dirty deadman's shoes\" would be perfect for that kind of stage production cross. I'd be hard pressed to imagine Cole Porter working up the anger behind \"Shabby Doll.\"In short, the dark and introspective \"Imperial Bedroom\" was a turning point for Elvis, final proof that he was at the crest of the still expanding wave of British writers that had begun emerging in the early 80's. It was likely the best album of 1982 as well.\n",
              "13726    In 1990, Phil Collins had been on THE ...BUT SERIOUSLY TOUR, where during that concert tour, Phil Collins had released his first live album entitled, SERIOUS HITS...LIVE! This album, although being Phil's first live album, is his sixth album overall. Phil always had a way with singing in the studio, but singing live is definitely gift for good ole Phil because this album is outstanding.SOMETHING HAPPENED ON THE WAY TO HEAVENStudio version from the album ...BUT SERIOUSLY (1989). The album version was just outstanding and it goes right next to this live version. Awesome.AGAINST ALL ODDS (TAKE A LOOK AT ME NOW)Studio version from the original motion picture & motion picture soundtrack AGAINST ALL ODDS (1984). For years, I had gone on without even listening to this song, but years later, I gave the song another shot and I cannot get enough of it.WHO SAID I WOULDStudio version from the album NO JACKET REQUIRED (1985). Just as energetic and fun-filled as the album version.ONE MORE NIGHTStudio version from the album NO JACKET REQUIRED (1985). Better than the original.DON'T LOSE MY NUMBERStudio version from the album NO JACKET REQUIRED (1985). Both the studio version and this here live version are outstanding.DO YOU REMEMBER?Studio version from the album ...BUT SERIOUSLY (1989). Even better than the studio version.ANOTHER DAY IN PARADISEStudio version from the album ...BUT SERIOUSLY (1989). Both versions are just amazing.SEPARATE LIVES (Duet with Bridgette Bryant)Studio version from the original motion picture & motion picture WHITE NIGHTS (1985). The studio version to this song was actually a duet between Phil Collins & Marilyn Martin, but it is obvious that Marilyn Martin is not present on her vocals, but Phil's backing vocalist Bridgette Bryant. Bridgette Bryant's voice is very pretty, but Marilyn Martin's voice was even prettier. But this live version stands right next to the original studio version.IN THE AIR TONIGHTStudio version from the album FACE VALUE (1981). Great song, even performed live.YOU CAN'T HURRY LOVEStudio version from the album HELLO, I MUST BE GOING! (1982). Not bad.TWO HEARTSStudio version from the original motion picture & motion picture soundtrack BUSTER (1988). Great song.SUSSUDIOStudio version from the album NO JACKET REQUIRED (1985). Great song.A GROOVY KIND OF LOVEStudio version from the original motion picture & motion picture soundtrack BUSTER (1988). Awesome ballad.EASY LOVER (With Arnold McCuller & Fred White)Studio version from Phillip Bailey's album CHINESE WALL (1984). As you all know, \"Easy Lover\" was a duet between Phillip Bailey (of EARTH WIND & FIRE) & Phil Collins. Providing the vocals for Phillip Bailey's verses are two of Phil Collins' male backing vocalists, Arnold McCuller & Fred White. Not bad.TAKE ME HOMEStudio version from the album NO JACKET REQUIRED (1985). Awesome tune.Phil Collins is just a genius Icon. His incredible voice and great songs inspire his millions of fans around the world. He continues to inspire with this here incredible live album that all Phil Collins fans should have. Make sure to buy your copy of SERIOUS HITS...LIVE! today.\n",
              "60852                                                                                                                                                                                                                                                                                                                                                                                                                                                                                                                                                                                                                                                                                                                                                                                                                                                                                                                                                                                                                                                                                                                                                                                                                                                                                                                                                                                                                                                                                                                                                                                                                                                                                                                                                                                                                                                                                                                                                                                                                                                                                                                                                                                                                                                                                                                                                                                                                                                                                                                                                                                                                                                                                                                                                                                                                                                                                                                                                                                                                                                Here again, as I review songs for Amazon at their request, am thinking grunge/garage band...  but addictive and fresh...  am glad to have added this free track to my 5,000+ files and hope it regularly pops up randomly.\n",
              "52282                                                                                                                                                                                                                                                                                                                                                                                                                                                                                                                                                                                                                                                                                                                                                                                                                                                                                                                                                                                                                                                                                                                                                                                                                                                                                                                                                                                                                                                                                                                                                                                                                                                                                                                                                                                                                                                                                                                                                                                                                                                                                                                                                                                                                                                                                                                                                                                                                                                                                                                                                                                                                                                                                                        This CD is a strong rock music CD with very powerful lryics to every song on it.  If you are ever feeling down, hurt, left out and so forth then get this CD and listen to the lryics because they will impact you as much as they did me as I listen to the CD.  I do have my favorites off it they include Pain, Animal I have Become, Riot, and Get out Alive. But the whole album is amazing start to finish so if you have a passion for rock music like me then pick this up and sit back and enjoy hard rock music with passionate lryics behind each song.\n",
              "3145                                                                                                                                                                                                                                                                                                                                                                                                                                                                                                                                                                                                                                                                                                                                                                                                                                                                                                                                                                                                                                                                                                                                                                                                                                                                                                                                                                                                                                                                                                                                                                                                                                                                                                                                                                                                                                                                                                                                                                                                                                                                                                                                                                                                                                                                                                                                                                                                                                                                                                                                                                                                                                                                                                                                                                                                                                                                                                                                                                                                 This has to be the greatest recording ever in human history. This album will probably remain my all-time favorite for the rest of my life. After almost 30 years nobody has come close to its brilliance. When you play this album you are listening to God through Stevie\n",
              "33761                                                                                                                                                                                                                                                                                                                                                                                                                                                                                                                                                                                                                                                                                                                                                                                                                                                                                                                                                                                                                                                                                                                                                                                                                                                                                                                                                                                                                                                                                                                                                                                                                                                                                                                                                                                                                                                                                                                                                                                                                                                                                                                                                                                                                                                                                                                                                                                                                                                                                                                                                                                                                                                                                  Overall, this is a pretty good CD to add to your collection, as it's pretty original.  Most of the songs are interesting, sort of &quot;moody&quot; background music.  Some of them have a bit of a funky tempo, sometimes with a bit of rap added, which I think takes away from the songs.  Some of the rap seems a bit disingenuous, and comes off like they're trying to be funky, but somehow they don't quite don't succeed on these particular tracks, because of the rap. An &quot;instrumental&quot; version of this CD would be alot better IMHO.  But it's still pretty good.\n",
              "27146                                                                                                                                                                                                                                                                                                                                                                                                                                                                                                                                                                                                                                                                                                                                                                                                                                                                                                                                                                                                                                                                                                                                                                                                                                                                                                                                                                                                                                                                                                                                                                                                                                                                                                                                                                                                                                                                                                                                                                                                                                                                                                                                                                                                                                                                                                                                                                                                                                                                                                                                                                                                                                                                                                                                                                                                                                              without the Great Mind Of Eazy E. there would not have been the Kind of Path Dre Had or Death Row for that Matter.Eazy started everything.on This Disc His Beats&amp;Humor are in full effect.He doesn't get his Proper  Credit as a Rap Business Man&amp;Artist he paved The way not only for Death  Row,but also Bad Boy,No-Limit,Cash Money Etc.. He wasn't the Greatest  Rapper but He stayed Black&amp;true.R.I.P Eazy.\n",
              "31986                                                                                                                                                                                                                                                                                                                                                                                                                                                                                                                                                                                                                                                                                                                                                                                                                                                                                                                                                                                                                                                                                                                                                                                                                                                                                                                                                                                                                                                                                                                                                                                                                                                                                                                                                                                                                                                                                                                                                                                                                                                                                                                                                                                                                                                                                                                                                                                                                                                                                                                                                                                                                                                                                                                                                                            Cat Stevens' career is better served by this latest collection. From his early works like \"Matthew and Son\" to his last \"rock\" single \"Just Another Night\" his career is pretty well sampled. Most of the hits are here and a few of the better album cuts are included as well, (although I personally could do without the self-indulgent \"Foreigner Suite.\") Stevens had one of the most distinctive voices in popular music, and this CD gives a good accounting of why he was so popular.\n",
              "19235                                                                                                                                                                                                                                                                                                                                                                                                                                                                                                                                                                                                                                                                                                                                                                                                                                                                                                                                                                                                                                                                                                                                                                                                                                                                                                                                                                                                                                                                                                                                                                                                                                                                                                                                                                                                                                                                                                                                                                                                                                                                                                                                                                                                                                                                                                                                                                                                                                                                                                                                       Although it can't match his &quot;Bat&quot; albums, I still thoroughly enjoy this cd. Even the Dianne Warren penned songs. Of course nothing can stay the same or it would get boring after a while, which is the reason artists like to change styles and songwriters etc every so often. And this is one of those albums. But Meatloaf is still Meatloaf, (although I have recently heard that he no longer goes by that name). I really can't find much if anything, to dislike about this album. Most fans of 'The artist previously known as Meatloaf' will love this. The 18 page booklet has all the lyrics written in a 40's style gangster/crime novel style, complete with pictures of 40's paperback crime novel covers.\n",
              "37760                                                                                                                                                                                                                                                                                                                                                                                                                                                                                                                                                                                                                                                                                                                                                                                                                                                                                                                                                                                                                                                                                                                                                                                                                                                                                                                                                                                      It's 1961, and for recording sessions in January, February and March producer Orrin Keepnews has snagged Cannonball, one of the five best saxophone players of the era; Bill Evans, one of the five best pianists, and the team of Connie Kay and Percy Heath, fully half of one of the five best jazz ensembles, the Modern Jazz Quartet. So the bass and drums are in superior hands, and the lead instruments are in superstar hands. A decision is made to create a record for the Riverside label, at the time a decent-size player in the jazz business along with Prestige and Blue Note and Verve and the majors. Further decisions are to record two Bill Evans compositions, a tune by the Gershwins, one by John Lewis, pianist/leader of the MJQ, one by jazzman Clifford Jordan, and one by Gordon Jenkins, one of the most popular orchestra leaders for recordings in that time frame. The parties agreed that the project would be mostly mellow, but with a swinging foundation. The whole recipe worked perfectly, and now, 40 years later, we have this current release with two bonus tracks, alternate takes of two of the eight original selections. They turn out to be almost as good as the ones first chosen for the vinyl LP. From the first notes by Evans of his own tune &quot;Waltz for Debbie&quot; to the closing notes on the alternate take of &quot;Know What I Mean?&quot; this disc is a delight. If you like Adderley or Evans at all, grab this document attesting to how beautifully they worked together once. This one is somewhat hard to find, but worth the searching. Beautiful music that will never go out of style and is far more than background sound deserves to be in your home. You don't have to be a jazz fan to like it. Somehow this project has drawn less attention from critics and fans than it deserves. I love it.\n",
              "4926                                                                                                                                                                                                                                                                                                                                                                                                                                                                                                                                                                                                                                                                                                                                                                                                                                                                                                                                                                                                                                                                                                                                                                                                                                                                                                                                                                                                                                                                                                                                                                                                                                                                                                                                                                                                                                                                                                                                                                                                                                                                                                                                                                                                                                                                                                                                                                                                                                                                                                Seventh Sojourn is one of those albums that never grows old.  I first purchased it as a vinyl way back in the early 70s, and fell in love with it.  The arrangements are lush and evocative; the music itself is poignant,  melodic and memorable; the lyrics danced across the turntable.  Songs such  as &quot;For My Lady,&quot; &quot;When I'm a Free Man,&quot; &quot;Lost in  a Lost World&quot; and &quot;Isn't Life Strange&quot; will be Moody  classics in years to come.  AS most reviewers agreed, despite it being a  fun tune, &quot;I'm Just a Singer&quot; is seriously out of place on this  album, but who can help but like that bass leadin?  It's truly one of their  best, and for a band that's been around for over 30 years, that's saying a  lot!\n",
              "60334                                                                                                                                                                                                                                                                                                                                                                                                                                                                                                                                                                                                                                                                                                                                                                                                                                                                                                                                                                                                                                                                                                                                                                                                                                                                                                                                                                                                                                                                                  Like a lot of people, I picked up this album when it was up for 99 cents on the day of release. I felt it was a good opportunity to try to understand what's up with this Lady Gaga thing. I had read her interview in Rolling Stone and came away mildly intrigued, but really came to this album a blank slate -- not having heard Lady Gaga's music but willing to like it, with a vaguely positive predisposition.But what struck me most about the record is its surprising lack of originality. Except for a few more ballad-like tracks at the end, most of the music is dominated by techno-style rhythm tracks that you would have heard in any European dance club in 1995 (which is about when I stopped going to clubs).People compare Lady Gaga to Madonna a lot, and I can understand why -- the title track \"Born This Way\" is basically a remake of Madonna's \"Express Yourself\", with a little bit of the rap from \"Vogue\" thrown in. But Madonna has actually done some innovative things musically -- the \"Like a Prayer\" album still stands out as a pretty decent achievement, for example. I'm not hearing anything of that caliber here.Lady Gaga seems to have two things going for her. First, she is an innovator, at least a bit, on the look-and-image side. Can't take that away from her. Second are her religion-themed lyrics. I still can't make out whether she is coming from a Christian angle or an angle critical of mainstream Christianity. This ambivalence is mildly interesting artistically.Otherwise, the music is OK for what it is -- relatively mindless and uninventive dance fodder. But I don't think you can say much beyond that. To paraphrase what Gertrude Stein said about Oakland, California: \"There's not much there there.\"\n",
              "58531                                                                                                                                                                                                                                                                                                                                                                                                                                                                                                                                                                                                                                                                                                                                                                                                                                                                                                                                                                                                                                                                                                                                                                                                                                                                                                                                                                                                                                                                                                                                                                                                                                                                                                                                                                                                                                                                                                                                                                                                                                                                                                                                                                                                                                                                                                                                                                                                                                                                                                                                                                                                                                                                                                                      Celebration by Madonna is an ok dance track. I didn't expect this song to be a huge masterpiece from my favorite pop singer, Celebration shines in places but overall - this song is kind of weak in production. I can't believe Madge has entertained us for 26 years, I have practically grown up with her - she is the Queen of Pop and forever will be. This song will be included on her upcoming greatest hits cd of the same name. I can't give my girl any less than 4 stars so here's to Madge, may she be around for another 26 years!!!!!\n",
              "11079                                                                                                                                                                                                                                                                                                                                                                                                                                                                                                                                                                                                                                                                                                                                                                                                                                                                                                                                                                                                                                                                                                                                                                                                                                                                                                                                                                                                                                                                                                                                                                                                                                                                                                                                                                                                                                                                                                                                                                                                                                                                                                                                                                                                                                                                                                                                                                                                                                                                                                                                                                                                                                                                                                                                                                                                                                                                                         This album by Bruce was brand new to me.I had never even heard one song off of it.I sure am glad I bought it.(at a good price too)To me this album is a cross between NEBRASKA and TUNNEL OF LOVE.The tales on this album are more rough than those on Tunnel but not as hardcore as those on Nebraska.Every fan of Bruce should like this record.\"Dancing in the Dark\" it ain't.\n",
              "38328                                                                                                                                                                                                                                                                                                                                                                                                                                                                                                                                                                                                                                                                                                                                                                                                                                                                                                                                                                                                                                                                                                                                                                                                                                                                                                                                                                                                                                                                                                                                                                                                                                                                                                                                                                                                         After I saw the videos for 4 songs off this album on mtv and sampling the tracks here at amazon,I finally decided to go ahead and buy this album.I wasn't disappointed with it at all.It has bangin beats mixed with clever rhymes and is probably one of the best cds that's been released recently.my favorite tracks are:young boy-9/10 how can a song be catchier than this?I've been singin it ever since I bought the album.when the last time-9.5/10-one for the clubs here.it had an awesome video too.comedy central-8.5/10-fabolous had a just plain tight verse here.the clipse did ok, but the guest appeance is what makes this one so good.ex:\"the government know, the kid been lovin' the dough/since I was moving white off the curb like shoveling snow\".gangsta lean-9/10 basically like \"young boy\" with pharrell singing a catchy hook that sticks in your head,except this is about girls-my main interest.cot damn-10/10 G**Damn!this is simply blazin,man!a lot better than the radio version(it's got competely different and better lyrics)that dude called ab-liva or something can rap really well.most fo the other tracks are awesome too, except for ego which is pretty corny sounding.one thing though:why isn't their song with the birdman,\"what happened to that boy\" on here?it's just as much their song as his,and it's one of the best songs so far in '03.anyways,I think you should get this album.it's worth the cash.\n",
              "Name: reviewText, dtype: object"
            ]
          },
          "metadata": {},
          "execution_count": 111
        }
      ]
    },
    {
      "cell_type": "code",
      "source": [
        "model = gensim.models.Word2Vec(corpus, window=2)"
      ],
      "metadata": {
        "id": "RXY_7XCCy1Bc"
      },
      "execution_count": 112,
      "outputs": []
    },
    {
      "cell_type": "markdown",
      "source": [
        "Возьмём в качестве родовых понятий `sound`, `music`, `musical`, `record`, `stringed`, `instrument`\n",
        "\n",
        "\n"
      ],
      "metadata": {
        "id": "d8sEYu0iMhUn"
      }
    },
    {
      "cell_type": "code",
      "source": [
        "entities = []\n",
        "for i in model.wv.most_similar('sound', topn=15):\n",
        "    entities.append(i[0])"
      ],
      "metadata": {
        "id": "vkhhccmDuqix"
      },
      "execution_count": 114,
      "outputs": []
    },
    {
      "cell_type": "code",
      "source": [
        "for i in model.wv.most_similar('music', topn=15):\n",
        "    entities.append(i[0])"
      ],
      "metadata": {
        "id": "r84bnG2yMcsL"
      },
      "execution_count": 115,
      "outputs": []
    },
    {
      "cell_type": "code",
      "source": [
        "for i in model.wv.most_similar('album', topn=15):\n",
        "    entities.append(i[0])"
      ],
      "metadata": {
        "id": "YIEhMtqNMcwK"
      },
      "execution_count": 116,
      "outputs": []
    },
    {
      "cell_type": "code",
      "source": [
        "for i in model.wv.most_similar('genre', topn=15):\n",
        "    entities.append(i[0])"
      ],
      "metadata": {
        "id": "3Gz5dt0bMc0c"
      },
      "execution_count": 117,
      "outputs": []
    },
    {
      "cell_type": "code",
      "source": [
        "for i in model.wv.most_similar('guitar', topn=15):\n",
        "    entities.append(i[0])"
      ],
      "metadata": {
        "id": "TK35FPM9P-xN"
      },
      "execution_count": 118,
      "outputs": []
    },
    {
      "cell_type": "code",
      "source": [
        "for i in model.wv.most_similar('song', topn=15):\n",
        "    entities.append(i[0])"
      ],
      "metadata": {
        "id": "sSlLyV8QZYsX"
      },
      "execution_count": 119,
      "outputs": []
    },
    {
      "cell_type": "code",
      "source": [
        "for i in model.wv.most_similar('rock', topn=15):\n",
        "    entities.append(i[0])"
      ],
      "metadata": {
        "id": "8e3Ds3MXZalt"
      },
      "execution_count": 120,
      "outputs": []
    },
    {
      "cell_type": "code",
      "source": [
        "entities = [lemmatizer.lemmatize(i) for i in entities]"
      ],
      "metadata": {
        "id": "Bzl3kYk_XVCd"
      },
      "execution_count": 121,
      "outputs": []
    },
    {
      "cell_type": "code",
      "source": [
        "entities = set(entities)\n",
        "entities = list(entities)\n",
        "len(entities)"
      ],
      "metadata": {
        "colab": {
          "base_uri": "https://localhost:8080/"
        },
        "id": "YxbQYrscMc8Z",
        "outputId": "4f3c918a-0340-4ecb-ec3a-3f14cf46f025"
      },
      "execution_count": 122,
      "outputs": [
        {
          "output_type": "execute_result",
          "data": {
            "text/plain": [
              "91"
            ]
          },
          "metadata": {},
          "execution_count": 122
        }
      ]
    },
    {
      "cell_type": "code",
      "source": [
        "def get_mention(text, entities):\n",
        "    mentions = []\n",
        "    for word in text.split():\n",
        "        if lemmatizer.lemmatize(word) in entities:\n",
        "            mentions.append(word)\n",
        "    return mentions"
      ],
      "metadata": {
        "id": "obKiowcjMdAL"
      },
      "execution_count": 123,
      "outputs": []
    },
    {
      "cell_type": "code",
      "source": [
        "new_corpus = []\n",
        "\n",
        "for i in corpus:\n",
        "    new_corpus.append(' '.join(i))"
      ],
      "metadata": {
        "id": "wNSFXh5WMdDt"
      },
      "execution_count": 124,
      "outputs": []
    },
    {
      "cell_type": "code",
      "source": [
        "for i in range(len(new_corpus)):\n",
        "    new_corpus[i] = ' '.join(preprocess(new_corpus[i], stop, True))"
      ],
      "metadata": {
        "id": "sPF58CCcX-fX"
      },
      "execution_count": 125,
      "outputs": []
    },
    {
      "cell_type": "code",
      "source": [
        "bigrams = ngrams(' '.join(new_corpus).split(), 2)"
      ],
      "metadata": {
        "id": "yoLRrZouX-jg"
      },
      "execution_count": 126,
      "outputs": []
    },
    {
      "cell_type": "markdown",
      "source": [
        "# Считаем эн-граммы"
      ],
      "metadata": {
        "id": "IoFwGmDJYMoz"
      }
    },
    {
      "cell_type": "code",
      "source": [
        "bi = Counter(bigrams)"
      ],
      "metadata": {
        "id": "kRbkHvK1X-n8"
      },
      "execution_count": 127,
      "outputs": []
    },
    {
      "cell_type": "code",
      "source": [
        "bi_entities = []\n",
        "for i in bi.most_common():\n",
        "    if lemmatizer.lemmatize(i[0][0]) in entities or lemmatizer.lemmatize(i[0][1]) in entities:\n",
        "        bi_entities.append(' '.join([i[0][0], i[0][1]]))"
      ],
      "metadata": {
        "id": "uHqj-fstX-sx"
      },
      "execution_count": 128,
      "outputs": []
    },
    {
      "cell_type": "code",
      "source": [
        "trigrams = ngrams(' '.join(new_corpus).split(), 3)\n",
        "tri = Counter(trigrams)\n",
        "tri_entities = []\n",
        "for i in tri.most_common():\n",
        "    if lemmatizer.lemmatize(i[0][0]) in entities or lemmatizer.lemmatize(i[0][1]) in entities or lemmatizer.lemmatize(i[0][2]) in entities:\n",
        "        tri_entities.append(' '.join([i[0][0], i[0][1], i[0][2]]))"
      ],
      "metadata": {
        "id": "dkCoNcWtX-xN"
      },
      "execution_count": 129,
      "outputs": []
    },
    {
      "cell_type": "markdown",
      "source": [
        "# Коллокации"
      ],
      "metadata": {
        "id": "BH7HjP7yYi8O"
      }
    },
    {
      "cell_type": "code",
      "source": [
        "bigram_measures = nltk.collocations.BigramAssocMeasures()\n",
        "finder = BigramCollocationFinder.from_words(' '.join(new_corpus).split())\n",
        "finder.apply_freq_filter(20)"
      ],
      "metadata": {
        "id": "ZIkR0yF0YfS9"
      },
      "execution_count": 130,
      "outputs": []
    },
    {
      "cell_type": "code",
      "source": [
        "pmi = []\n",
        "for item in entities:\n",
        "    rate = [i for i in finder.nbest(bigram_measures.pmi, 1000000) if item in i]\n",
        "    pmi.append([' '.join(i) for i in rate])"
      ],
      "metadata": {
        "id": "7smKZfrNYo1v"
      },
      "execution_count": 131,
      "outputs": []
    },
    {
      "cell_type": "code",
      "source": [
        "pmi[0][:30]"
      ],
      "metadata": {
        "colab": {
          "base_uri": "https://localhost:8080/"
        },
        "id": "Ine6WTl_YqJZ",
        "outputId": "1f9bd057-7d7e-471b-a1e7-effd26f08dd6"
      },
      "execution_count": 132,
      "outputs": [
        {
          "output_type": "execute_result",
          "data": {
            "text/plain": [
              "['minneapolis sound',\n",
              " 'sound affects',\n",
              " 'surround sound',\n",
              " 'sound effects',\n",
              " 'fuller sound',\n",
              " 'sound revenge',\n",
              " 'sound alike',\n",
              " 'sound quality',\n",
              " 'sound dated',\n",
              " 'signature sound',\n",
              " 'wall sound',\n",
              " 'distinctive sound',\n",
              " 'organic sound',\n",
              " 'distinct sound',\n",
              " 'philly sound',\n",
              " 'sound system',\n",
              " 'remastered sound',\n",
              " 'layers sound',\n",
              " 'improved sound',\n",
              " 'unique sound',\n",
              " 'trademark sound',\n",
              " 'sound silence',\n",
              " 'safe sound',\n",
              " 'retro sound',\n",
              " 'sound fresh',\n",
              " 'sound similar',\n",
              " 'doesnt sound',\n",
              " 'polished sound',\n",
              " 'motown sound',\n",
              " 'oriented sound']"
            ]
          },
          "metadata": {},
          "execution_count": 132
        }
      ]
    },
    {
      "cell_type": "code",
      "source": [
        "jaccard = []\n",
        "for item in entities:\n",
        "    rate = [i for i in finder.nbest(bigram_measures.jaccard, 1000000) if item in i]\n",
        "    jaccard.append([' '.join(i) for i in rate])"
      ],
      "metadata": {
        "id": "r_vc-GE4aIcO"
      },
      "execution_count": 133,
      "outputs": []
    },
    {
      "cell_type": "code",
      "source": [
        "jaccard[0][:30]"
      ],
      "metadata": {
        "colab": {
          "base_uri": "https://localhost:8080/"
        },
        "id": "Zl0Tids0aI9W",
        "outputId": "f6268624-f553-43e9-dcbf-73fa47d6973f"
      },
      "execution_count": 134,
      "outputs": [
        {
          "output_type": "execute_result",
          "data": {
            "text/plain": [
              "['sound quality',\n",
              " 'sound like',\n",
              " 'sound effects',\n",
              " 'unique sound',\n",
              " 'rock sound',\n",
              " 'songs sound',\n",
              " 'sound good',\n",
              " 'overall sound',\n",
              " 'new sound',\n",
              " 'wall sound',\n",
              " 'sound much',\n",
              " 'guitar sound',\n",
              " 'sound great',\n",
              " 'may sound',\n",
              " 'sound fresh',\n",
              " 'sound similar',\n",
              " 'sound bit',\n",
              " 'signature sound',\n",
              " 'band sound',\n",
              " 'remastered sound',\n",
              " 'make sound',\n",
              " 'pop sound',\n",
              " 'sound better',\n",
              " 'makes sound',\n",
              " 'different sound',\n",
              " 'sound dated',\n",
              " 'sound little',\n",
              " 'would sound',\n",
              " 'vocals sound',\n",
              " 'sound alike']"
            ]
          },
          "metadata": {},
          "execution_count": 134
        }
      ]
    },
    {
      "cell_type": "code",
      "source": [
        "dice = []\n",
        "for item in entities:\n",
        "    rate = [i for i in finder.nbest(bigram_measures.dice, 1000000) if item in i][:150]\n",
        "    dice.append([' '.join(i) for i in rate])"
      ],
      "metadata": {
        "id": "4Tmw0iGYYqNj"
      },
      "execution_count": 135,
      "outputs": []
    },
    {
      "cell_type": "code",
      "source": [
        "dice[0][:30]"
      ],
      "metadata": {
        "colab": {
          "base_uri": "https://localhost:8080/"
        },
        "id": "7-dD8c9hYqSZ",
        "outputId": "c04310ee-7262-4260-e769-57e7ae478cb5"
      },
      "execution_count": 136,
      "outputs": [
        {
          "output_type": "execute_result",
          "data": {
            "text/plain": [
              "['sound quality',\n",
              " 'sound like',\n",
              " 'sound effects',\n",
              " 'unique sound',\n",
              " 'rock sound',\n",
              " 'songs sound',\n",
              " 'sound good',\n",
              " 'overall sound',\n",
              " 'new sound',\n",
              " 'wall sound',\n",
              " 'sound much',\n",
              " 'guitar sound',\n",
              " 'sound great',\n",
              " 'may sound',\n",
              " 'sound fresh',\n",
              " 'sound similar',\n",
              " 'sound bit',\n",
              " 'signature sound',\n",
              " 'band sound',\n",
              " 'remastered sound',\n",
              " 'make sound',\n",
              " 'pop sound',\n",
              " 'sound better',\n",
              " 'makes sound',\n",
              " 'different sound',\n",
              " 'sound dated',\n",
              " 'sound little',\n",
              " 'would sound',\n",
              " 'vocals sound',\n",
              " 'sound alike']"
            ]
          },
          "metadata": {},
          "execution_count": 136
        }
      ]
    },
    {
      "cell_type": "code",
      "source": [
        "trigram_measures = nltk.collocations.TrigramAssocMeasures()\n",
        "finder = TrigramCollocationFinder.from_words(' '.join(new_corpus).split())\n",
        "finder.apply_freq_filter(20)"
      ],
      "metadata": {
        "id": "XY0pxQP_Z_H4"
      },
      "execution_count": 137,
      "outputs": []
    },
    {
      "cell_type": "code",
      "source": [
        "pmi_tri = []\n",
        "for item in entities:\n",
        "    rate = [i for i in finder.nbest(trigram_measures.pmi, 1000000000) if item in i][:150]\n",
        "    pmi_tri.append([' '.join(i) for i in rate])\n",
        "pmi_tri[0][:30]"
      ],
      "metadata": {
        "colab": {
          "base_uri": "https://localhost:8080/"
        },
        "id": "HH_kgDOUaTHp",
        "outputId": "6f23a513-1186-47b0-dca1-7760bd263bb9"
      },
      "execution_count": 138,
      "outputs": [
        {
          "output_type": "execute_result",
          "data": {
            "text/plain": [
              "['west coast sound',\n",
              " 'new wave sound',\n",
              " 'sound quality excellent',\n",
              " 'old school sound',\n",
              " 'quality sound excellent',\n",
              " 'songs sound alike',\n",
              " 'hip hop sound',\n",
              " 'r b sound',\n",
              " 'still sound fresh',\n",
              " 'supposed sound like',\n",
              " 'sound quality good',\n",
              " 'sound exactly like',\n",
              " 'better sound quality',\n",
              " 'songs sound similar',\n",
              " 'great sound quality',\n",
              " 'good sound quality',\n",
              " 'trying sound like',\n",
              " 'sound quality great',\n",
              " 'hard rock sound',\n",
              " 'sound like anything',\n",
              " 'sound much better',\n",
              " 'may sound like',\n",
              " 'sound like recorded',\n",
              " 'makes sound like',\n",
              " 'making sound like',\n",
              " 'sound like something',\n",
              " 'sound pretty good',\n",
              " 'pop rock sound',\n",
              " 'might sound like',\n",
              " 'sound much like']"
            ]
          },
          "metadata": {},
          "execution_count": 138
        }
      ]
    },
    {
      "cell_type": "code",
      "source": [
        "jaccard_tri = []\n",
        "for item in entities:\n",
        "    rate = [i for i in finder.nbest(trigram_measures.jaccard, 1000000000) if item in i][:150]\n",
        "    jaccard_tri.append([' '.join(i) for i in rate])\n",
        "jaccard_tri[0][:30]"
      ],
      "metadata": {
        "colab": {
          "base_uri": "https://localhost:8080/"
        },
        "id": "xv6OsO7EYqWZ",
        "outputId": "e0f1e614-1b17-4c28-bc6e-048a68e22c90"
      },
      "execution_count": 139,
      "outputs": [
        {
          "output_type": "execute_result",
          "data": {
            "text/plain": [
              "['r b sound',\n",
              " 'sound quality excellent',\n",
              " 'hip hop sound',\n",
              " 'songs sound like',\n",
              " 'west coast sound',\n",
              " 'quality sound excellent',\n",
              " 'new wave sound',\n",
              " 'sound quality good',\n",
              " 'sound much like',\n",
              " 'old school sound',\n",
              " 'hard rock sound',\n",
              " 'would sound like',\n",
              " 'sound like something',\n",
              " 'better sound quality',\n",
              " 'great sound quality',\n",
              " 'sound much better',\n",
              " 'good sound quality',\n",
              " 'still sound fresh',\n",
              " 'make sound like',\n",
              " 'may sound like',\n",
              " 'makes sound like',\n",
              " 'sound quality great',\n",
              " 'really sound like',\n",
              " 'pop rock sound',\n",
              " 'songs sound similar',\n",
              " 'trying sound like',\n",
              " 'sound pretty good',\n",
              " 'many songs sound',\n",
              " 'sound exactly like',\n",
              " 'sound like could']"
            ]
          },
          "metadata": {},
          "execution_count": 139
        }
      ]
    },
    {
      "cell_type": "code",
      "source": [
        "likelihood = []\n",
        "for item in entities:\n",
        "    rate = [i for i in finder.nbest(trigram_measures.likelihood_ratio, 1000000000) if item in i][:150]\n",
        "    likelihood.append([' '.join(i) for i in rate])\n",
        "likelihood[0][:30]"
      ],
      "metadata": {
        "colab": {
          "base_uri": "https://localhost:8080/"
        },
        "id": "mh9Nt0TCaWSm",
        "outputId": "9cd86e74-f855-4088-c518-b7d28e3f8c39"
      },
      "execution_count": 141,
      "outputs": [
        {
          "output_type": "execute_result",
          "data": {
            "text/plain": [
              "['hip hop sound',\n",
              " 'r b sound',\n",
              " 'west coast sound',\n",
              " 'sound pretty good',\n",
              " 'old school sound',\n",
              " 'new wave sound',\n",
              " 'sound much better',\n",
              " 'hard rock sound',\n",
              " 'songs sound like',\n",
              " 'sound like something',\n",
              " 'make sound like',\n",
              " 'may sound like',\n",
              " 'makes sound like',\n",
              " 'sound like old',\n",
              " 'quot sound like',\n",
              " 'trying sound like',\n",
              " 'sound like one',\n",
              " 'song sound like',\n",
              " 'making sound like',\n",
              " 'supposed sound like',\n",
              " 'would sound like',\n",
              " 'really sound like',\n",
              " 'might sound like',\n",
              " 'vocals sound like',\n",
              " 'sound like could',\n",
              " 'sound like anything',\n",
              " 'album sound like',\n",
              " 'sound like recorded',\n",
              " 'music sound like',\n",
              " 'beats sound like']"
            ]
          },
          "metadata": {},
          "execution_count": 141
        }
      ]
    },
    {
      "cell_type": "markdown",
      "source": [
        "# Пять примеров"
      ],
      "metadata": {
        "id": "bZwEB60kald2"
      }
    },
    {
      "cell_type": "code",
      "source": [
        "examples = {}\n",
        "for idx, item in enumerate(entities[:5]):\n",
        "    examples[item] = jaccard[idx][:5] + likelihood[idx][:5]"
      ],
      "metadata": {
        "id": "_QDsTMBqakLD"
      },
      "execution_count": 142,
      "outputs": []
    },
    {
      "cell_type": "code",
      "source": [
        "for key,val in examples.items():\n",
        "  print('\\n', key,'\\n---\\n', '\\n'.join(val))"
      ],
      "metadata": {
        "colab": {
          "base_uri": "https://localhost:8080/"
        },
        "id": "o7hE6piebej5",
        "outputId": "92730364-f65e-4f9b-e3d4-ac5f47de5340"
      },
      "execution_count": 156,
      "outputs": [
        {
          "output_type": "stream",
          "name": "stdout",
          "text": [
            "\n",
            " sound \n",
            "---\n",
            " sound quality\n",
            "sound like\n",
            "sound effects\n",
            "unique sound\n",
            "rock sound\n",
            "hip hop sound\n",
            "r b sound\n",
            "west coast sound\n",
            "sound pretty good\n",
            "old school sound\n",
            "\n",
            " style \n",
            "---\n",
            " vocal style\n",
            "unique style\n",
            "musical style\n",
            "singing style\n",
            "change style\n",
            "hip hop style\n",
            "style hip hop\n",
            "r b style\n",
            "style r b\n",
            "laid back style\n",
            "\n",
            " rap \n",
            "---\n",
            " gangsta rap\n",
            "rap game\n",
            "rap fan\n",
            "coast rap\n",
            "southern rap\n",
            "rap hip hop\n",
            "hip hop rap\n",
            "one best rap\n",
            "west coast rap\n",
            "old school rap\n",
            "\n",
            " effort \n",
            "---\n",
            " sophomore effort\n",
            "solid effort\n",
            "solo effort\n",
            "latest effort\n",
            "sophmore effort\n",
            "first solo effort\n",
            "\n",
            " genre \n",
            "---\n",
            " genre bending\n",
            "sub genre\n",
            "metal genre\n",
            "musical genre\n",
            "genre music\n"
          ]
        }
      ]
    },
    {
      "cell_type": "code",
      "source": [],
      "metadata": {
        "id": "mpRsWLCDakXn"
      },
      "execution_count": null,
      "outputs": []
    },
    {
      "cell_type": "code",
      "source": [],
      "metadata": {
        "id": "DNo04X8rakck"
      },
      "execution_count": null,
      "outputs": []
    }
  ]
}